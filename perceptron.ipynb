{
 "cells": [
  {
   "cell_type": "code",
   "execution_count": 15,
   "id": "c2cf8bf8",
   "metadata": {},
   "outputs": [],
   "source": [
    "import numpy as np\n",
    "import matplotlib.pyplot as plt"
   ]
  },
  {
   "cell_type": "code",
   "execution_count": 16,
   "id": "486a8285",
   "metadata": {},
   "outputs": [],
   "source": [
    "def thresh(x):\n",
    "    k=int(input(\"enter thresh\"))\n",
    "    if x>=0:\n",
    "        return 1\n",
    "    else:\n",
    "        return -1\n"
   ]
  },
  {
   "cell_type": "code",
   "execution_count": null,
   "id": "bdb02386",
   "metadata": {},
   "outputs": [],
   "source": [
    "def plot_perceptron(x,y,w,t,b,_+1):\n",
    "    plt.subplot(4,4,idx)\n",
    "    plt.scatter(x, y, c=t, cmap='coolwarm', marker='s')\n",
    "    X=np.linspace(-0.2, 1.2, 100)\n",
    "    Y=[-xi*(w[0]/w[1])-b/w[1] for xi in X]\n",
    "    plt.plot(X, Y, color='black', label=f'y={-w[0]/w[1]}x - {b/w[1]}')\n",
    "    plt.legend()\n",
    "    plt.title('McCulloch-Pitts Decision Boundary for b = {} w = [{},{}]'.format(b, w[0], w[1]))\n",
    "    plt.xlabel(\"x-axis\")\n",
    "    plt.ylabel(\"y-axis\")\n",
    "    plt.grid(True,alpha=0.3)"
   ]
  },
  {
   "cell_type": "code",
   "execution_count": 18,
   "id": "adae80fb",
   "metadata": {},
   "outputs": [],
   "source": [
    "\n",
    "def perceptron(x,y,w,t,b,alpha,miter):\n",
    "    for _ in range(miter):\n",
    "        print(f\"Epoch {_+1}\")\n",
    "        error = 0\n",
    "        for i in range(len(x)):\n",
    "            y_in=x[i]*w[0]+y[i]*w[1]+b\n",
    "            y_thresh=thresh(y_in)\n",
    "            if y_thresh!=t[i]:\n",
    "                w[0]=w[0]+alpha*x[i]*t[i]\n",
    "                w[1]=w[1]+alpha*y[i]*t[i]\n",
    "                b = b + alpha * t[i]\n",
    "                error += 1\n",
    "\n",
    "            plot_perceptron(x,y,w,t,b)\n",
    "            if error == 0:\n",
    "                print(\"No errors, stopping training.\")\n",
    "                break\n",
    "            else:\n",
    "                print(f\"Errors in this epoch: {error}\")\n",
    "\n",
    "    plt.plot()\n",
    "    plt.show()\n",
    "        \n",
    "    \n",
    "    return w, b\n"
   ]
  },
  {
   "cell_type": "code",
   "execution_count": 19,
   "metadata": {},
   "outputs": [
    {
     "name": "stdout",
     "output_type": "stream",
     "text": [
      "Epoch 1\n"
     ]
    },
    {
     "ename": "ZeroDivisionError",
     "evalue": "division by zero",
     "output_type": "error",
     "traceback": [
      "\u001b[1;31m---------------------------------------------------------------------------\u001b[0m",
      "\u001b[1;31mZeroDivisionError\u001b[0m                         Traceback (most recent call last)",
      "Cell \u001b[1;32mIn[19], line 8\u001b[0m\n\u001b[0;32m      6\u001b[0m alpha \u001b[38;5;241m=\u001b[39m \u001b[38;5;241m1\u001b[39m\n\u001b[0;32m      7\u001b[0m miter \u001b[38;5;241m=\u001b[39m \u001b[38;5;241m5\u001b[39m\n\u001b[1;32m----> 8\u001b[0m w, b \u001b[38;5;241m=\u001b[39m \u001b[43mperceptron\u001b[49m\u001b[43m(\u001b[49m\u001b[43mx\u001b[49m\u001b[43m,\u001b[49m\u001b[43m \u001b[49m\u001b[43my\u001b[49m\u001b[43m,\u001b[49m\u001b[43m \u001b[49m\u001b[43mw\u001b[49m\u001b[43m,\u001b[49m\u001b[43mt\u001b[49m\u001b[43m,\u001b[49m\u001b[43m \u001b[49m\u001b[43mb\u001b[49m\u001b[43m,\u001b[49m\u001b[43m \u001b[49m\u001b[43malpha\u001b[49m\u001b[43m,\u001b[49m\u001b[43m \u001b[49m\u001b[43mmiter\u001b[49m\u001b[43m)\u001b[49m\n",
      "Cell \u001b[1;32mIn[18], line 14\u001b[0m, in \u001b[0;36mperceptron\u001b[1;34m(x, y, w, t, b, alpha, miter)\u001b[0m\n\u001b[0;32m     11\u001b[0m     b \u001b[38;5;241m=\u001b[39m b \u001b[38;5;241m+\u001b[39m alpha \u001b[38;5;241m*\u001b[39m t[i]\n\u001b[0;32m     12\u001b[0m     error \u001b[38;5;241m+\u001b[39m\u001b[38;5;241m=\u001b[39m \u001b[38;5;241m1\u001b[39m\n\u001b[1;32m---> 14\u001b[0m \u001b[43mplot_perceptron\u001b[49m\u001b[43m(\u001b[49m\u001b[43mx\u001b[49m\u001b[43m,\u001b[49m\u001b[43my\u001b[49m\u001b[43m,\u001b[49m\u001b[43mw\u001b[49m\u001b[43m,\u001b[49m\u001b[43mt\u001b[49m\u001b[43m,\u001b[49m\u001b[43mb\u001b[49m\u001b[43m)\u001b[49m\n\u001b[0;32m     15\u001b[0m \u001b[38;5;28;01mif\u001b[39;00m error \u001b[38;5;241m==\u001b[39m \u001b[38;5;241m0\u001b[39m:\n\u001b[0;32m     16\u001b[0m     \u001b[38;5;28mprint\u001b[39m(\u001b[38;5;124m\"\u001b[39m\u001b[38;5;124mNo errors, stopping training.\u001b[39m\u001b[38;5;124m\"\u001b[39m)\n",
      "Cell \u001b[1;32mIn[17], line 4\u001b[0m, in \u001b[0;36mplot_perceptron\u001b[1;34m(x, y, w, t, b)\u001b[0m\n\u001b[0;32m      2\u001b[0m plt\u001b[38;5;241m.\u001b[39mscatter(x, y, c\u001b[38;5;241m=\u001b[39mt, cmap\u001b[38;5;241m=\u001b[39m\u001b[38;5;124m'\u001b[39m\u001b[38;5;124mcoolwarm\u001b[39m\u001b[38;5;124m'\u001b[39m, marker\u001b[38;5;241m=\u001b[39m\u001b[38;5;124m'\u001b[39m\u001b[38;5;124ms\u001b[39m\u001b[38;5;124m'\u001b[39m)\n\u001b[0;32m      3\u001b[0m X\u001b[38;5;241m=\u001b[39mnp\u001b[38;5;241m.\u001b[39mlinspace(\u001b[38;5;241m-\u001b[39m\u001b[38;5;241m0.2\u001b[39m, \u001b[38;5;241m1.2\u001b[39m, \u001b[38;5;241m100\u001b[39m)\n\u001b[1;32m----> 4\u001b[0m Y\u001b[38;5;241m=\u001b[39m[\u001b[38;5;241m-\u001b[39mxi\u001b[38;5;241m*\u001b[39m(w[\u001b[38;5;241m0\u001b[39m]\u001b[38;5;241m/\u001b[39mw[\u001b[38;5;241m1\u001b[39m])\u001b[38;5;241m-\u001b[39mb\u001b[38;5;241m/\u001b[39mw[\u001b[38;5;241m1\u001b[39m] \u001b[38;5;28;01mfor\u001b[39;00m xi \u001b[38;5;129;01min\u001b[39;00m X]\n\u001b[0;32m      5\u001b[0m plt\u001b[38;5;241m.\u001b[39mplot(X, Y, color\u001b[38;5;241m=\u001b[39m\u001b[38;5;124m'\u001b[39m\u001b[38;5;124mblack\u001b[39m\u001b[38;5;124m'\u001b[39m, label\u001b[38;5;241m=\u001b[39m\u001b[38;5;124mf\u001b[39m\u001b[38;5;124m'\u001b[39m\u001b[38;5;124my=\u001b[39m\u001b[38;5;132;01m{\u001b[39;00m\u001b[38;5;241m-\u001b[39mw[\u001b[38;5;241m0\u001b[39m]\u001b[38;5;241m/\u001b[39mw[\u001b[38;5;241m1\u001b[39m]\u001b[38;5;132;01m}\u001b[39;00m\u001b[38;5;124mx - \u001b[39m\u001b[38;5;132;01m{\u001b[39;00mb\u001b[38;5;241m/\u001b[39mw[\u001b[38;5;241m1\u001b[39m]\u001b[38;5;132;01m}\u001b[39;00m\u001b[38;5;124m'\u001b[39m)\n\u001b[0;32m      6\u001b[0m plt\u001b[38;5;241m.\u001b[39mlegend()\n",
      "Cell \u001b[1;32mIn[17], line 4\u001b[0m, in \u001b[0;36m<listcomp>\u001b[1;34m(.0)\u001b[0m\n\u001b[0;32m      2\u001b[0m plt\u001b[38;5;241m.\u001b[39mscatter(x, y, c\u001b[38;5;241m=\u001b[39mt, cmap\u001b[38;5;241m=\u001b[39m\u001b[38;5;124m'\u001b[39m\u001b[38;5;124mcoolwarm\u001b[39m\u001b[38;5;124m'\u001b[39m, marker\u001b[38;5;241m=\u001b[39m\u001b[38;5;124m'\u001b[39m\u001b[38;5;124ms\u001b[39m\u001b[38;5;124m'\u001b[39m)\n\u001b[0;32m      3\u001b[0m X\u001b[38;5;241m=\u001b[39mnp\u001b[38;5;241m.\u001b[39mlinspace(\u001b[38;5;241m-\u001b[39m\u001b[38;5;241m0.2\u001b[39m, \u001b[38;5;241m1.2\u001b[39m, \u001b[38;5;241m100\u001b[39m)\n\u001b[1;32m----> 4\u001b[0m Y\u001b[38;5;241m=\u001b[39m[\u001b[38;5;241m-\u001b[39mxi\u001b[38;5;241m*\u001b[39m(\u001b[43mw\u001b[49m\u001b[43m[\u001b[49m\u001b[38;5;241;43m0\u001b[39;49m\u001b[43m]\u001b[49m\u001b[38;5;241;43m/\u001b[39;49m\u001b[43mw\u001b[49m\u001b[43m[\u001b[49m\u001b[38;5;241;43m1\u001b[39;49m\u001b[43m]\u001b[49m)\u001b[38;5;241m-\u001b[39mb\u001b[38;5;241m/\u001b[39mw[\u001b[38;5;241m1\u001b[39m] \u001b[38;5;28;01mfor\u001b[39;00m xi \u001b[38;5;129;01min\u001b[39;00m X]\n\u001b[0;32m      5\u001b[0m plt\u001b[38;5;241m.\u001b[39mplot(X, Y, color\u001b[38;5;241m=\u001b[39m\u001b[38;5;124m'\u001b[39m\u001b[38;5;124mblack\u001b[39m\u001b[38;5;124m'\u001b[39m, label\u001b[38;5;241m=\u001b[39m\u001b[38;5;124mf\u001b[39m\u001b[38;5;124m'\u001b[39m\u001b[38;5;124my=\u001b[39m\u001b[38;5;132;01m{\u001b[39;00m\u001b[38;5;241m-\u001b[39mw[\u001b[38;5;241m0\u001b[39m]\u001b[38;5;241m/\u001b[39mw[\u001b[38;5;241m1\u001b[39m]\u001b[38;5;132;01m}\u001b[39;00m\u001b[38;5;124mx - \u001b[39m\u001b[38;5;132;01m{\u001b[39;00mb\u001b[38;5;241m/\u001b[39mw[\u001b[38;5;241m1\u001b[39m]\u001b[38;5;132;01m}\u001b[39;00m\u001b[38;5;124m'\u001b[39m)\n\u001b[0;32m      6\u001b[0m plt\u001b[38;5;241m.\u001b[39mlegend()\n",
      "\u001b[1;31mZeroDivisionError\u001b[0m: division by zero"
     ]
    },
    {
     "data": {
      "image/png": "[encoded data removed]",
      "text/plain": [
       "<Figure size 640x480 with 1 Axes>"
      ]
     },
     "metadata": {},
     "output_type": "display_data"
    }
   ],
   "source": [
    "x = [1, 1, -1, -1]\n",
    "y = [1, -1, 1, -1]\n",
    "t = [1, -1, -1, -1]  # Polar AND gate\n",
    "w = [0, 0]\n",
    "b = 0\n",
    "alpha = 1\n",
    "miter = 5\n",
    "w, b = perceptron(x, y, w,t, b, alpha, miter)"
   ]
  },
  {
   "cell_type": "code",
   "execution_count": null,
   "metadata": {},
   "outputs": [],
   "source": []
  },
  {
   "cell_type": "code",
   "execution_count": null,
   "id": "3ff71e44",
   "metadata": {},
   "outputs": [],
   "source": []
  }
 ],
 "metadata": {
  "kernelspec": {
   "display_name": "Python 3",
   "language": "python",
   "name": "python3"
  },
  "language_info": {
   "codemirror_mode": {
    "name": "ipython",
    "version": 3
   },
   "file_extension": ".py",
   "mimetype": "text/x-python",
   "name": "python",
   "nbconvert_exporter": "python",
   "pygments_lexer": "ipython3",
   "version": "3.10.18"
  }
 },
 "nbformat": 4,
 "nbformat_minor": 5
}
